{
 "cells": [
  {
   "cell_type": "markdown",
   "metadata": {},
   "source": [
    "# Lesson 3.5\n",
    "\n",
    "## Topics:\n",
    " - Strings\n",
    " - File Handling\n",
    " - Importing packages\n",
    " - Basic plotting\n",
    " \n",
    "### Strings\n",
    "\n",
    "Refreshing our memories, string is just a set of characters enclosed by quotation marks. We can manipulate strings in many ways with python that is powerful and very useful in a variety of contexts. \n",
    "\n",
    "Each character in a string has an index. Consider the string \"A Test String\":<br>\n",
    "Character  Index<br>\n",
    "\"A\"         0<br>\n",
    "\" \"         1<br>\n",
    "\"T\"         2<br>\n",
    "\"E\"         3<br>\n",
    "\"S\"         4<br>\n",
    "\"T\"         5<br>\n",
    "\" \"         6<br>\n",
    "\"S\"         7<br>\n",
    "\"t\"         8<br>\n",
    "\"r\"         9<br>\n",
    "\"i\"         10<br>\n",
    "\"n\"         11<br>\n",
    "\"g\"         12<br>\n",
    "\n",
    "Knowing how to manipulate strings gives us powerful means to work with sequences, text files, etc., essential for computational biology. We will begin by learning some basic string manipulation.\n",
    " \n",
    "### Let us do some string manipulation!\n",
    "\n",
    " - Count the occurance of a substring\n",
    " - Length of a string"
   ]
  },
  {
   "cell_type": "markdown",
   "metadata": {},
   "source": [
    "Let us take my favorite protein sequence and write code to find percentage of positively charged residues. First let us initialize the sequence:"
   ]
  },
  {
   "cell_type": "code",
   "execution_count": 7,
   "metadata": {},
   "outputs": [],
   "source": [
    "histone_h3 = \"MARTKQTARKSTGGKAPRKQLATKAARKSAPATGGVKKPHRYRPGTVALREIRRYQKSTELLIRKLPFQRLVREIAQDFKTDLRFQSSAVMALQEACEAYLVGLFEDTNLCAIHAKRVTIMPKDIQLARRIRGERA\""
   ]
  },
  {
   "cell_type": "markdown",
   "metadata": {},
   "source": [
    "Lysine (K), Arginine (R), and Histodine (H) are the positive residues. We use `count()` function to count occurences of these residues."
   ]
  },
  {
   "cell_type": "code",
   "execution_count": 26,
   "metadata": {},
   "outputs": [],
   "source": [
    "count = histone_h3.count('K') + histone_h3.count('R') + histone_h3.count('H')"
   ]
  },
  {
   "cell_type": "markdown",
   "metadata": {},
   "source": [
    "To compare extent of positive residues in H3 with another protein, we have to **normalize** to total protein length. We use `len()` function to find length of strings."
   ]
  },
  {
   "cell_type": "code",
   "execution_count": 27,
   "metadata": {},
   "outputs": [
    {
     "name": "stdout",
     "output_type": "stream",
     "text": [
      "Histone H3 percent positive: 24.264705882352942\n"
     ]
    }
   ],
   "source": [
    "percent_positive = count*100/len(histone_h3)\n",
    "print(\"Histone H3 percent positive:\", percent_positive)"
   ]
  },
  {
   "cell_type": "markdown",
   "metadata": {},
   "source": [
    "Is Histone H3 special? Let us do the same analysis on a \"housekeeping\" protein, GAPDH:"
   ]
  },
  {
   "cell_type": "code",
   "execution_count": 28,
   "metadata": {},
   "outputs": [
    {
     "name": "stdout",
     "output_type": "stream",
     "text": [
      "GAPDH percent positive: 13.73134328358209\n"
     ]
    }
   ],
   "source": [
    "gapdh = \"MGKVKVGVNGFGRIGRLVTRAAFNSGKVDIVAINDPFIDLNYMVYMFQYDSTHGKFHGTVKAENGKLVINGNPITIFQERDPSKIKWGDAGAEYVVESTGVFTTMEKAGAHLQGGAKRVIISAPSADAPMFVMGVNHEKYDNSLKIISNASCTTNCLAPLAKVIHDNFGIVEGLMTTVHAITATQKTVDGPSGKLWRDGRGALQNIIPASTGAAKAVGKVIPELNGKLTGMAFRVPTANVSVVDLTCRLEKPAKYDDIKKVVKQASEGPLKGILGYTEHQVVSSDFNSDTHSSTFDAGAGIALNDHFVKLISWYDNEFGYSNRVVDLMAHMASKE\"\n",
    "count = gapdh.count('K') + gapdh.count('R') + gapdh.count('H')\n",
    "\n",
    "percent_positive = count*100/len(gapdh)\n",
    "\n",
    "print(\"GAPDH percent positive:\", percent_positive)"
   ]
  },
  {
   "cell_type": "markdown",
   "metadata": {},
   "source": [
    "What other questions could we ask with `count()` and `len()` commands in biological sequences?"
   ]
  },
  {
   "cell_type": "markdown",
   "metadata": {},
   "source": [
    "### String parsing\n",
    "\n",
    "String parsing can be a powerful way to process **large** or **many** files in batch mode to extract information relevant to us, avoiding manual curation. As a simple example, we can start with a *fasta* entry, which has two lines:\n",
    "\n",
    "- First line is the sequence name, which starts with \">\"\n",
    "- Second line is the sequence itself\n",
    "\n",
    "How do I extract information from a fasta entry? (We will directly work on files later, here we go through a simpler example by initializing the fasta entry as a string)"
   ]
  },
  {
   "cell_type": "code",
   "execution_count": 9,
   "metadata": {},
   "outputs": [
    {
     "name": "stdout",
     "output_type": "stream",
     "text": [
      ">histone_H3\n",
      "MARTKQTARKSTGGKAPRKQLATKAARKSAPATGGVKKPHRYRPGTVALREIRRYQKSTELLIRKLPFQRLVREIAQDFKTDLRFQSSAVMALQEACEAYLVGLFEDTNLCAIHAKRVTIMPKDIQLARRIRGERA\n"
     ]
    }
   ],
   "source": [
    "fasta_file=\">histone_H3\\nMARTKQTARKSTGGKAPRKQLATKAARKSAPATGGVKKPHRYRPGTVALREIRRYQKSTELLIRKLPFQRLVREIAQDFKTDLRFQSSAVMALQEACEAYLVGLFEDTNLCAIHAKRVTIMPKDIQLARRIRGERA\"\n",
    "print(fasta_file)"
   ]
  },
  {
   "cell_type": "markdown",
   "metadata": {},
   "source": [
    "Let us first split the two lines."
   ]
  },
  {
   "cell_type": "code",
   "execution_count": 10,
   "metadata": {},
   "outputs": [],
   "source": [
    "fasta_lines = fasta_file.split('\\n') #Two lines in the fasta file, let us separate the lines"
   ]
  },
  {
   "cell_type": "markdown",
   "metadata": {},
   "source": [
    "Quick refresher: What kind of data type is `fasta_lines`?"
   ]
  },
  {
   "cell_type": "code",
   "execution_count": 11,
   "metadata": {},
   "outputs": [
    {
     "data": {
      "text/plain": [
       "list"
      ]
     },
     "execution_count": 11,
     "metadata": {},
     "output_type": "execute_result"
    }
   ],
   "source": [
    "type(fasta_lines)"
   ]
  },
  {
   "cell_type": "markdown",
   "metadata": {},
   "source": [
    "There were two lines, each of which are an element in the list `fasta_lines`. <br>Now, which of the elements is the header and which of them is the sequence? \n",
    "\n",
    "Pseudocode:\n",
    "- The header in a fasta starts with `>`. We can check for that with `startswith()`. \n",
    "- We will go through each element of the list `fasta_lines` and check for the `>` sign. \n",
    "- If the `>` sign is absent, that element is the sequence."
   ]
  },
  {
   "cell_type": "code",
   "execution_count": 13,
   "metadata": {},
   "outputs": [
    {
     "name": "stdout",
     "output_type": "stream",
     "text": [
      "Seq name:\t>histone_H3\n",
      "Seq:\t\tMARTKQTARKSTGGKAPRKQLATKAARKSAPATGGVKKPHRYRPGTVALREIRRYQKSTELLIRKLPFQRLVREIAQDFKTDLRFQSSAVMALQEACEAYLVGLFEDTNLCAIHAKRVTIMPKDIQLARRIRGERA\n"
     ]
    }
   ],
   "source": [
    "for i in fasta_lines: #for each line\n",
    "    if i.startswith('>'): #Does the line start with the \">\" symbol?\n",
    "        seq_name = i\n",
    "    else:\n",
    "        seq = i\n",
    "print(\"Seq name:\\t\"+seq_name+\"\\nSeq:\\t\\t\"+seq)"
   ]
  },
  {
   "cell_type": "markdown",
   "metadata": {},
   "source": [
    "### Replace\n",
    "We don't want the `>` sign as part of the sequence name. How do we get rid of it? <br>\n",
    "\n",
    "- `replace()` is like search & replace in text editing programs\n",
    "- str.replace(character to be replaced, replacement, count)\n",
    "- if count not specified, all instances replaced"
   ]
  },
  {
   "cell_type": "code",
   "execution_count": 17,
   "metadata": {},
   "outputs": [
    {
     "name": "stdout",
     "output_type": "stream",
     "text": [
      "MARTKQTARKSTGGKAPRKQLATKAARKSAPATGGVKKPHRYRPGTVALREIRRYQKSTELLIRKLPFQRLVREIAQDFKTDLRFQSSAVMALQEACEAYLVGLFEDTNLCAIHAKRVTIMPKDIQLARRIRGERA\n"
     ]
    }
   ],
   "source": [
    "seq_name = i.replace(\">\",'')\n",
    "print(seq_name)"
   ]
  },
  {
   "cell_type": "markdown",
   "metadata": {},
   "source": [
    "### Find\n",
    "\n",
    "- `find()` method finds the first occurence of the specified value.\n",
    "- `str.find ( prefix [ , start [ , end ] ] )`"
   ]
  },
  {
   "cell_type": "code",
   "execution_count": 23,
   "metadata": {},
   "outputs": [
    {
     "data": {
      "text/plain": [
       "47"
      ]
     },
     "execution_count": 23,
     "metadata": {},
     "output_type": "execute_result"
    }
   ],
   "source": [
    "seq.find('A',40)"
   ]
  },
  {
   "cell_type": "markdown",
   "metadata": {},
   "source": [
    "### An everyday example of string manipulation\n",
    "\n",
    "How to find the reverse complement of a *DNA* sequence?"
   ]
  },
  {
   "cell_type": "code",
   "execution_count": 30,
   "metadata": {},
   "outputs": [],
   "source": [
    "seq = \"AUGCCAUGUUGTC\""
   ]
  },
  {
   "cell_type": "markdown",
   "metadata": {},
   "source": [
    "If, ahem, someone enters an *RNA* sequence, let us clean it up first:"
   ]
  },
  {
   "cell_type": "code",
   "execution_count": 31,
   "metadata": {},
   "outputs": [],
   "source": [
    "if \"U\" in seq: #if it is RNA, let us change it to DNA before it gets degraded\n",
    "    better_seq = seq.replace('U','T')"
   ]
  },
  {
   "cell_type": "markdown",
   "metadata": {},
   "source": [
    "Now let us find the complement. We will take advantage of the fact that a string can also be treated as a list."
   ]
  },
  {
   "cell_type": "code",
   "execution_count": 37,
   "metadata": {},
   "outputs": [
    {
     "name": "stdout",
     "output_type": "stream",
     "text": [
      "ATGCCATGTTGTC\n",
      "TACGGTACAACAG\n"
     ]
    }
   ],
   "source": [
    "complement_seq=[]\n",
    "for i in range(0,len(better_seq)):\n",
    "    if(better_seq[i] == 'A'):\n",
    "        complement_seq.append('T')\n",
    "    elif(better_seq[i] == 'T'):\n",
    "        complement_seq.append('A')\n",
    "    elif(better_seq[i] == 'G'):\n",
    "        complement_seq.append('C')\n",
    "    elif(better_seq[i] == 'C'):\n",
    "        complement_seq.append('G')\n",
    "print(better_seq)\n",
    "print(''.join(complement_seq))"
   ]
  },
  {
   "cell_type": "code",
   "execution_count": null,
   "metadata": {},
   "outputs": [],
   "source": [
    "#Now reverse complement:\n",
    "rev_better_seq = better_seq[::-1]\n",
    "print(seq)\n",
    "print(better_seq)\n",
    "print(rev_better_seq)\n",
    "#Now use replace again?"
   ]
  },
  {
   "cell_type": "markdown",
   "metadata": {},
   "source": [
    "### What kind of characters does my string have?\n",
    " - isalpha() - are all the characters alphabets?\n",
    " - isnumeric() - are all characters numeric?"
   ]
  },
  {
   "cell_type": "code",
   "execution_count": 12,
   "metadata": {},
   "outputs": [
    {
     "data": {
      "text/plain": [
       "True"
      ]
     },
     "execution_count": 12,
     "metadata": {},
     "output_type": "execute_result"
    }
   ],
   "source": [
    "seq = \"ATGCATCGA\"\n",
    "seq.isalpha()"
   ]
  },
  {
   "cell_type": "markdown",
   "metadata": {},
   "source": [
    "#### One way to check it is only a DNA sequence\n"
   ]
  },
  {
   "cell_type": "code",
   "execution_count": 17,
   "metadata": {},
   "outputs": [
    {
     "name": "stdout",
     "output_type": "stream",
     "text": [
      "UUU\n",
      "Non DNA alphabets detected\n"
     ]
    }
   ],
   "source": [
    "input_seq = \"ATAGAGCUUU\"\n",
    "tmp_seq = input_seq\n",
    "tmp_seq = tmp_seq.replace(\"A\",\"\").replace(\"T\",\"\").replace(\"G\",\"\").replace(\"C\",\"\")\n",
    "print(tmp_seq)\n",
    "#tmp_seq = tmp_seq.replace(\"A\",\"\")\n",
    "#tmp_seq = tmp_seq.replace(\"T\",\"\")\n",
    "#tmp_seq = tmp_seq.replace(\"G\",\"\")\n",
    "#tmp_seq = tmp_seq.replace(\"C\",\"\")\n",
    "if(len(tmp_seq)>0):\n",
    "    print(\"Non DNA alphabets detected\")\n",
    "else:\n",
    "    print(\"Sequence seems like DNA\")"
   ]
  },
  {
   "cell_type": "markdown",
   "metadata": {},
   "source": [
    "### strip, rstrip and lstrip\n",
    "\n",
    "- Default - remove whitespace from beginning, end, or both sides \n",
    "- For rstrip, lstrip - all combinations of characters in the chars argument are removed from the right/left of the string until first mismatch."
   ]
  },
  {
   "cell_type": "code",
   "execution_count": 23,
   "metadata": {},
   "outputs": [
    {
     "name": "stdout",
     "output_type": "stream",
     "text": [
      "\"ATGC  ATGC\"\n",
      "ATGATGC\n",
      "Test this sent\n",
      "Test this sent\n",
      "this is g\n"
     ]
    }
   ],
   "source": [
    "seq1 = \" ATGC  ATGC \"\n",
    "print(\"\\\"\"+seq1.strip()+\"\\\"\")\n",
    "seq1 = \"ATGATGC \"\n",
    "seq2 = \"Test this sentence\"\n",
    "print(seq1.rstrip())\n",
    "print(seq2.rstrip('enceasdasda'))\n",
    "print(seq2.rstrip('secen'))\n",
    "random_string = 'this is good'\n",
    "\n",
    "print(random_string.rstrip('do'))"
   ]
  },
  {
   "cell_type": "markdown",
   "metadata": {},
   "source": [
    "## A real life problem\n",
    "\n",
    "Sequencing reads from Illumina platform are stored as fastq files. Each sequencing \"read\" gets four lines. Here is an example:\n",
    "\n",
    "`@SRR036139.1 11_26_8:5:1:749:1421 length=36\n",
    "GCTGGCTGCGTCTGTGGTGGGTTTCATGTTAAGGTC\n",
    "+SRR036139.1 11_26_8:5:1:749:1421 length=36\n",
    "IIIIIIIIIIIIIIIIIIIIIIIIIIIIIIIIIIII`\n",
    "\n",
    "Description from FASTQ wiki page:\n",
    " - Line 1 begins with a '@' character and is followed by a sequence identifier and an optional description (like a FASTA title line).\n",
    " - Line 2 is the raw sequence letters.\n",
    " - Line 3 begins with a '+' character and is optionally followed by the same sequence identifier (and any description) again.\n",
    " - Line 4 encodes the quality values for the sequence in Line 2, and must contain the same number of symbols as letters in the sequence.\n",
    " \n",
    "### We want to determine the GC content of the reads in any FASTQ file. \n",
    "GC content could tell you about any bias in the library or if you are sequencing a new species for example, it tells you the properties of the species' genome. So, if you have a fastq file, how would you determine the GC content of the reads?\n",
    "\n",
    "- Somehow get the sequences from the file into a data structure you learned\n",
    "- Examine the sequence to get GC content\n",
    "- Present the data"
   ]
  },
  {
   "cell_type": "code",
   "execution_count": 24,
   "metadata": {},
   "outputs": [],
   "source": [
    "# How to get the sequences from the file into your code?\n",
    "# First, let us open a dummy file\n",
    "a_file = open('a_simple_file.txt', 'r' )\n",
    "a_file.close()"
   ]
  },
  {
   "cell_type": "markdown",
   "metadata": {},
   "source": [
    "### open() command\n",
    " - Two inputs - filename, mode\n",
    " - Mode can be \n",
    "     - 'r' for read\n",
    "     - 'w' for write (overwrites existing file)\n",
    "     - 'a' for append (adds to existing file)\n",
    " \"a_file\" is an object in which the whole file is stored"
   ]
  },
  {
   "cell_type": "code",
   "execution_count": 25,
   "metadata": {},
   "outputs": [
    {
     "data": {
      "text/plain": [
       "_io.TextIOWrapper"
      ]
     },
     "execution_count": 25,
     "metadata": {},
     "output_type": "execute_result"
    }
   ],
   "source": [
    "a_file = open('a_simple_file.txt', 'r' )\n",
    "type(a_file)"
   ]
  },
  {
   "cell_type": "code",
   "execution_count": 26,
   "metadata": {},
   "outputs": [
    {
     "name": "stdout",
     "output_type": "stream",
     "text": [
      "This is a simple file\n",
      "\n",
      "You can use this file to understand how python file commands work\n",
      "\n"
     ]
    }
   ],
   "source": [
    "#print every line\n",
    "a_file = open('a_simple_file.txt', 'r' )\n",
    "for line in a_file:\n",
    "    print(line)\n",
    "a_file.close()"
   ]
  },
  {
   "cell_type": "code",
   "execution_count": 27,
   "metadata": {},
   "outputs": [
    {
     "name": "stdout",
     "output_type": "stream",
     "text": [
      "<class 'str'>\n",
      "<class 'str'>\n"
     ]
    }
   ],
   "source": [
    "#What is the variable \"line\"?\n",
    "a_file = open('a_simple_file.txt', 'r' )\n",
    "for line in a_file:\n",
    "    print(type(line))\n",
    "a_file.close()"
   ]
  },
  {
   "cell_type": "code",
   "execution_count": 28,
   "metadata": {},
   "outputs": [
    {
     "name": "stdout",
     "output_type": "stream",
     "text": [
      "1 This is a simple file\n",
      "\n",
      "2 You can use this file to understand how python file commands work\n",
      "\n"
     ]
    }
   ],
   "source": [
    "#How do we track line numbers?\n",
    "line_no = 0\n",
    "a_file = open('a_simple_file.txt', 'r' )\n",
    "for line in a_file:\n",
    "    line_no += 1\n",
    "    print(line_no,line)\n",
    "a_file.close()"
   ]
  },
  {
   "cell_type": "code",
   "execution_count": 29,
   "metadata": {},
   "outputs": [
    {
     "name": "stdout",
     "output_type": "stream",
     "text": [
      "['This', 'is', 'a', 'simple', 'file'] \n",
      "no. of words in this line:  5\n",
      "['You', 'can', 'use', 'this', 'file', 'to', 'understand', 'how', 'python', 'file', 'commands', 'work'] \n",
      "no. of words in this line:  12\n"
     ]
    }
   ],
   "source": [
    "#Split into words, count the words\n",
    "a_file = open('a_simple_file.txt', 'r' )\n",
    "for line in a_file:\n",
    "    lineL = line.split()\n",
    "    print(lineL, \"\\nno. of words in this line: \", len(lineL))\n",
    "a_file.close()"
   ]
  },
  {
   "cell_type": "markdown",
   "metadata": {},
   "source": [
    "To get GC content of the sequences in a fastq file:\n",
    " - Find the line with sequence\n",
    " - Get the GC content\n",
    " \n",
    "When you write new code, don't apply it to actual data in the beginning - the data may be complicated enough for you to not be able to judge if your code is running properly. Instead, start with a toy model - something that will give you a trivial result. For example, here is a toy fastq file that has only two sequences with GC content of 100% and 50%:<br>\n",
    "`@TEST1\n",
    "GCGCGCGCGCGC\n",
    "+TEST1\n",
    "IIIIIIIIII\n",
    "@TEST2\n",
    "ATGCATGCATGC\n",
    "+TEST2\n",
    "IIIIIIIIIIII`"
   ]
  },
  {
   "cell_type": "code",
   "execution_count": 34,
   "metadata": {},
   "outputs": [
    {
     "name": "stdout",
     "output_type": "stream",
     "text": [
      "1 GCGCGCGCGCGC 100.0\n",
      "2 ATGCATGCATGC 50.0\n"
     ]
    }
   ],
   "source": [
    "seqs={} # A dictionary to store sequences if needed later\n",
    "gc_content={} # A dictionary to store GC content if needed later\n",
    "line_no = 0 # Variable to count lines\n",
    "fastq_file = open('toy.fastq', 'r' ) #Open the fastq file\n",
    "for line in fastq_file: # Iterate through the fastq file\n",
    "    line = line + \" \"\n",
    "    line=line.rstrip()\n",
    "    line_no+=1 #counting line numbers\n",
    "    if (line_no-2)%4 == 0: # Does the line number belong to the series 2, 6, 10, 14, etc. ?\n",
    "        key = int((line_no-2)/4) # Convert the line_no to a sequence ID\n",
    "        seqs[key] = line #Populate seqs dictionary\n",
    "        letters = list(line) #Get each letter of the sequence\n",
    "        #gc=0 # Initialize gc for THIS sequence\n",
    "        #for i in letters: # Iterate through the letters of the sequence\n",
    "        #    if(i == \"G\" or i == \"C\"): #Check if it is G or C\n",
    "        #        gc+=1 \n",
    "        #Another option:\n",
    "        gc = line.count('G') + line.count('C')\n",
    "        gc=round(gc*100/len(letters),2) #make it percentage, make it look pretty with round()\n",
    "        gc_content[key] = gc\n",
    "        print(key+1,line,gc) #print the results"
   ]
  },
  {
   "cell_type": "code",
   "execution_count": null,
   "metadata": {
    "collapsed": true
   },
   "outputs": [],
   "source": [
    "#line=line.rstrip()"
   ]
  },
  {
   "cell_type": "markdown",
   "metadata": {},
   "source": [
    "Let us try the real data now. (First 250 sequences from the SRA file: SRR036139"
   ]
  },
  {
   "cell_type": "code",
   "execution_count": 35,
   "metadata": {},
   "outputs": [],
   "source": [
    "#Let us write sequence details in a file called \"seq_details.txt\"\n",
    "fh = open(\"seq_details.txt\",\"w\")\n",
    "seqs={} # A dictionary to store sequences if needed later\n",
    "gc_content={} # A dictionary to store GC content if needed later\n",
    "line_no = 0 # Variable to count lines\n",
    "fastq_file = open('example.fastq', 'r' ) #Open the fastq file\n",
    "for line in fastq_file: # Iterate through the fastq file\n",
    "    line=line.rstrip() #get that pesky newline out\n",
    "    line_no+=1 #counting line numbers\n",
    "    if (line_no-2)%4 == 0: # Does the line number belong to the series 2, 6, 10, 14, etc. ?\n",
    "        key = int((line_no-2)/4) # Convert the line_no to a sequence ID\n",
    "        seqs[key] = line #Populate seqs dictionary\n",
    "        letters = list(line) #Get each letter of the sequence\n",
    "        gc=0 # Initialize gc for THIS sequence\n",
    "        for i in letters: # Iterate through the letters of the sequence\n",
    "            if(i == \"G\" or i == \"C\"): #Check if it is G or C\n",
    "                gc+=1 \n",
    "        gc=round(gc*100/len(letters),2) #make it percentage, make it look pretty with round()\n",
    "        gc_content[key] = gc\n",
    "        #print(key+1,line,gc) #print the results\n",
    "        write_str = str(key+1) + \" \" + line + \" GC Content: \" + str(gc) + \"\\n\"\n",
    "        fh.write(write_str)\n",
    "fh.close()"
   ]
  },
  {
   "cell_type": "markdown",
   "metadata": {},
   "source": [
    "This was not really useful because there are 250 numbers and we don't have a sense of what the data is telling us. A histogram may be more useful. There is a direct histogram function we will discuss later, but here will do it from scratch."
   ]
  },
  {
   "cell_type": "code",
   "execution_count": 37,
   "metadata": {},
   "outputs": [],
   "source": [
    "#let us assume bin size of 5 percent\n",
    "#let us write the histogram into a file called \"GC_hist.txt\"\n",
    "fh = open(\"GC_hist.txt\",\"w\")\n",
    "bin_size = 5\n",
    "hist = {} #declare the histogram\n",
    "for i in gc_content:\n",
    "    bin1 = int(gc_content[i]/bin_size + 0.5)*bin_size #which bin does this number belong to? In this case, the bin of\n",
    "                                                     # 5 goes from >=4.5 to <5.5\n",
    "    if bin1 in hist:\n",
    "        hist[bin1] += 1\n",
    "    else:\n",
    "        hist[bin1] = 1\n",
    "for i in sorted(hist):\n",
    "    hist[i]=hist[i]*100/len(gc_content)\n",
    "    write_str =str(i) + \" \" + str(hist[i]) + \"\\n\"\n",
    "    fh.write(write_str)\n",
    "fh.close()"
   ]
  },
  {
   "cell_type": "markdown",
   "metadata": {},
   "source": [
    "Would be nice if we could see a plot. I don't know how to make a simple plot in Jupyter, so I just googled and found this link: https://matplotlib.org/gallery/lines_bars_and_markers/simple_plot.html"
   ]
  },
  {
   "cell_type": "code",
   "execution_count": 40,
   "metadata": {},
   "outputs": [
    {
     "data": {
      "image/png": "[encoded data removed]",
      "text/plain": [
       "<matplotlib.figure.Figure at 0x10c1d8f98>"
      ]
     },
     "metadata": {},
     "output_type": "display_data"
    }
   ],
   "source": [
    "import matplotlib\n",
    "import matplotlib.pyplot as plt\n",
    "import numpy as np\n",
    "\n",
    "yt = []\n",
    "\n",
    "x = np.asarray(sorted(hist))\n",
    "for i in sorted(hist):\n",
    "    yt.append(hist[i])\n",
    "y = np.asarray(yt)\n",
    "\n",
    "fig, ax = plt.subplots()\n",
    "ax.plot(x, y)\n",
    "\n",
    "ax.set(xlabel='GC%', ylabel='% of sequences')\n",
    "\n",
    "plt.show()\n",
    "\n",
    "fig.savefig(\"test.png\")"
   ]
  },
  {
   "cell_type": "markdown",
   "metadata": {},
   "source": [
    "### Another real life example:\n",
    "\n",
    "#### Let us assume that each paired-end read we obtain from a sequencing experiment is in a bed file. We want to convert the reads into a genome browser track.\n",
    "\n",
    "A bed file has the following format (https://genome.ucsc.edu/FAQ/FAQformat.html#format1):<br>\n",
    "\n",
    "`chromosome    (start-1)    end    blah    blah    Strand`\n",
    "\n",
    "Let us break it down into columns:\n",
    " - First Column: Chromosome\n",
    " - Second Column: (Start position - 1)\n",
    " - Third Column: End position\n",
    " - Fourth Column: Name\n",
    " - Fifth Column: Score\n",
    " - Sixth Column: Strand\n",
    " \n",
    "In this example, we will ignore strand. For making a browser track, here is our strategy:\n",
    "\n",
    "`123456789`<br>\n",
    "`----_____`<br>\n",
    "`___----__`<br>\n",
    "`_____----`<br>\n",
    "`______---`<br>\n",
    "`______---`<br>\n",
    "`111212433`<br>\n"
   ]
  },
  {
   "cell_type": "code",
   "execution_count": 41,
   "metadata": {},
   "outputs": [],
   "source": [
    "read = {} #this will be the dictionary for our analysis\n",
    "# Here is the dictionary structure:\n",
    "# First level will be chromosome\n",
    "# Second level will be genomic coordinate\n",
    "\n",
    "bed_file = open('80mM_Ctl_sub.bed', 'r' ) #Open the fastq file\n",
    "for line in bed_file: # Iterate through the fastq file\n",
    "    line=line.rstrip() #get that pesky newline out\n",
    "    \n",
    "    #let us read in column values#####\n",
    "    cols = line.split()\n",
    "    chrom=cols[0].replace('chr','') #remove the pesky \"chr\" character from chromosome field\n",
    "    st = int(cols[1])+1\n",
    "    en = int(cols[2])\n",
    "    ##########################\n",
    "    \n",
    "    read.setdefault(chrom,{}) #when reading a file, we haven't assigned any chromosome keys in our dictionary.\n",
    "                              #setdefault makes a key if it doesn't exist\n",
    "    #Fill in the reads here\n",
    "    for i in range(st,en):\n",
    "        read[chrom].setdefault(i,0)\n",
    "        read[chrom][i]+=1\n",
    "    \n",
    "    #write the reads to a file\n",
    "    fh = open(\"read_density.txt\",\"w\")\n",
    "    for i in read:\n",
    "        for j in sorted(read[i]):\n",
    "            txt = str(i) + \"\\t\" + str(j-1) + \"\\t\" + str(j)+\"\\t\"+ str(read[i][j]) + \"\\n\"\n",
    "            fh.write(txt)\n",
    "    fh.close()"
   ]
  },
  {
   "cell_type": "markdown",
   "metadata": {},
   "source": [
    "How does the track look? Let us try to plot it (we have a small region in this example)"
   ]
  },
  {
   "cell_type": "code",
   "execution_count": 47,
   "metadata": {},
   "outputs": [
    {
     "data": {
      "image/png": "[encoded data removed]",
      "text/plain": [
       "<matplotlib.figure.Figure at 0x10f475780>"
      ]
     },
     "metadata": {},
     "output_type": "display_data"
    }
   ],
   "source": [
    "yt = []\n",
    "\n",
    "x = np.asarray(sorted(read['2L']))\n",
    "x = x - 21163511\n",
    "for i in sorted(read['2L']):\n",
    "    yt.append(read['2L'][i])\n",
    "y = np.asarray(yt)\n",
    "\n",
    "fig, ax = plt.subplots()\n",
    "ax.plot(x, y)\n",
    "\n",
    "ax.set(xlabel='Position', ylabel='Read Density')\n",
    "\n",
    "plt.show()"
   ]
  },
  {
   "cell_type": "markdown",
   "metadata": {},
   "source": [
    "This is all fragment sizes. Can we get only nucleosomal size (134-160 bp), and transcription factor size (<50 bp)?"
   ]
  },
  {
   "cell_type": "code",
   "execution_count": 43,
   "metadata": {},
   "outputs": [],
   "source": [
    "read_nuc = {} #this will be the dictionary for nucleosomes\n",
    "read_tf  = {} #this will be the dictionary for transcription factors\n",
    "\n",
    "# Here is the dictionary structure:\n",
    "# First level will be chromosome\n",
    "# Second level will be genomic coordinate\n",
    "\n",
    "bed_file = open('80mM_Ctl_sub.bed', 'r' ) #Open the bed file\n",
    "for line in bed_file: # Iterate through the fastq file\n",
    "    line=line.rstrip() #get that pesky newline out\n",
    "    \n",
    "    #let us read in column values#####\n",
    "    cols = line.split()\n",
    "    chrom=cols[0].replace('chr','') #remove the pesky \"chr\" character from chromosome field\n",
    "    st = int(cols[1])+1\n",
    "    en = int(cols[2])\n",
    "    fragment_length = en - st + 1\n",
    "    \n",
    "    ##########################\n",
    "    \n",
    "    #Fill in the reads here\n",
    "    if(fragment_length <=50):\n",
    "        for i in range(st,en):\n",
    "            read_tf.setdefault(chrom,{})\n",
    "            read_tf[chrom].setdefault(i,0)\n",
    "            read_tf[chrom][i]+=1\n",
    "    elif(fragment_length >=134 and fragment_length <= 160):    \n",
    "        for i in range(st,en):\n",
    "            read_nuc.setdefault(chrom,{})\n",
    "            read_nuc[chrom].setdefault(i,0)\n",
    "            read_nuc[chrom][i]+=1"
   ]
  },
  {
   "cell_type": "code",
   "execution_count": 44,
   "metadata": {},
   "outputs": [
    {
     "data": {
      "image/png": "[encoded data removed]",
      "text/plain": [
       "<matplotlib.figure.Figure at 0x10f2d02e8>"
      ]
     },
     "metadata": {},
     "output_type": "display_data"
    }
   ],
   "source": [
    "yt = []\n",
    "\n",
    "x1 = np.asarray(sorted(read_nuc['2L']))\n",
    "for i in sorted(read_nuc['2L']):\n",
    "    yt.append(read_nuc['2L'][i])\n",
    "y1 = np.asarray(yt)\n",
    "\n",
    "yt = []\n",
    "\n",
    "x2 = np.asarray(sorted(read_tf['2L']))\n",
    "for i in sorted(read_tf['2L']):\n",
    "    yt.append(read_tf['2L'][i])\n",
    "y2 = np.asarray(yt)\n",
    "\n",
    "\n",
    "fig, ax = plt.subplots()\n",
    "ax.plot(x1, y1, color='black',label=\"Nucleosome\")\n",
    "\n",
    "ax.plot(x2, y2, color='red', label=\"TF\")\n",
    "\n",
    "ax.set(xlabel='Position', ylabel='Read Density')\n",
    "\n",
    "plt.legend()\n",
    "\n",
    "plt.show()"
   ]
  },
  {
   "cell_type": "markdown",
   "metadata": {},
   "source": [
    "You now have a powerful toolset - you can open any text file with \"fixed formatting\" and process it to any extent you want. To what extent can you parse \"fixed formatting\"? Let us try the PDB format for biomolecular structures. This link has all entries for the PDB filetype: http://www.wwpdb.org/documentation/file-format-content/format33/v3.3.html. We will focus on \"ATOM\" entry:\n",
    "\n",
    "`COLUMNS        DATA  TYPE    FIELD        DEFINITION`<br>\n",
    "`-------------------------------------------------------------------------------------`\n",
    "<br>\n",
    "` 1 -  6        Record name   \"ATOM  \"\n",
    "  7 - 11        Integer       serial       Atom  serial number.\n",
    " 13 - 16        Atom          name         Atom name.\n",
    " 17             Character     altLoc       Alternate location indicator.\n",
    " 18 - 20        Residue name  resName      Residue name.\n",
    " 22             Character     chainID      Chain identifier.\n",
    " 23 - 26        Integer       resSeq       Residue sequence number.\n",
    " 27             AChar         iCode        Code for insertion of residues.\n",
    " 31 - 38        Real(8.3)     x            Orthogonal coordinates for X in Angstroms.\n",
    " 39 - 46        Real(8.3)     y            Orthogonal coordinates for Y in Angstroms.\n",
    " 47 - 54        Real(8.3)     z            Orthogonal coordinates for Z in Angstroms.\n",
    " 55 - 60        Real(6.2)     occupancy    Occupancy.\n",
    " 61 - 66        Real(6.2)     tempFactor   Temperature  factor.\n",
    " 77 - 78        LString(2)    element      Element symbol, right-justified.\n",
    " 79 - 80        LString(2)    charge       Charge  on the atom.`\n",
    " \n",
    "I want to find out the number of contacts between Histone H3 (chain A) and DNA (chains I and J) in the nucleosome structure. I define a contact as two atoms within 6 Angstroms.\n",
    "\n",
    "Here is how the \"ATOM\" records of a pdb file look:\n",
    "\n",
    "`ATOM   5983  N   PRO A  38     -24.648 -21.095 -95.387  1.00185.45           N     \n",
    "ATOM   5984  CA  PRO A  38     -23.718 -21.973 -94.638  1.00185.45           C     \n",
    "ATOM   5985  C   PRO A  38     -22.626 -21.152 -93.954  1.00185.45           C     \n",
    "ATOM   5986  O   PRO A  38     -21.595 -20.849 -94.557  1.00185.45           O     \n",
    "ATOM   5987  CB  PRO A  38     -23.121 -22.938 -95.650  1.00153.83           C     \n",
    "ATOM   5988  CG  PRO A  38     -23.205 -22.112 -96.936  1.00153.83           C     \n",
    "ATOM   5989  CD  PRO A  38     -24.544 -21.368 -96.832  1.00153.83           C     \n",
    "ATOM   5990  N   HIS A  39     -22.857 -20.799 -92.692  1.00162.21           N     \n",
    "ATOM   5991  CA  HIS A  39     -21.901 -19.998 -91.932  1.00162.21           C     \n",
    "ATOM   5992  C   HIS A  39     -20.987 -20.848 -91.060  1.00162.21           C     \n",
    "ATOM   5993  O   HIS A  39     -21.430 -21.821 -90.448  1.00162.21           O     \n",
    "ATOM   5994  CB  HIS A  39     -22.645 -18.977 -91.068  1.00161.49           C     \n",
    "ATOM   5995  CG  HIS A  39     -21.741 -18.066 -90.297  1.00161.49           C     \n",
    "ATOM   5996  ND1 HIS A  39     -21.353 -18.324 -89.000  1.00161.49           N     \n",
    "ATOM   5997  CD2 HIS A  39     -21.131 -16.910 -90.650  1.00161.49           C     \n",
    "ATOM   5998  CE1 HIS A  39     -20.545 -17.365 -88.587  1.00161.49           C     \n",
    "ATOM   5999  NE2 HIS A  39     -20.393 -16.495 -89.570  1.00161.49           N     \n",
    "ATOM   6000  N   ARG A  40     -19.713 -20.460 -90.997  1.00107.16           N     \n",
    "ATOM   6001  CA  ARG A  40     -18.709 -21.191 -90.226  1.00107.16           C     \n",
    "ATOM   6002  C   ARG A  40     -17.524 -20.290 -89.859  1.00107.16           C     \n",
    "ATOM   6003  O   ARG A  40     -16.983 -19.596 -90.720  1.00107.16           O     \n",
    "ATOM   6004  CB  ARG A  40     -18.216 -22.370 -91.061  1.00 98.76           C\n",
    "ATOM   6005  CG  ARG A  40     -17.519 -23.463 -90.292  1.00 98.76           C\n",
    "ATOM   6006  CD  ARG A  40     -16.929 -24.456 -91.268  1.00 98.76           C\n",
    "ATOM   6007  NE  ARG A  40     -16.472 -25.676 -90.620  1.00 98.76           N\n",
    "ATOM   6008  CZ  ARG A  40     -17.253 -26.467 -89.896  1.00 98.76           C\n",
    "ATOM   6009  NH1 ARG A  40     -18.532 -26.152 -89.724  1.00 98.76           N\n",
    "ATOM   6010  NH2 ARG A  40     -16.762 -27.582 -89.366  1.00 98.76           N`"
   ]
  },
  {
   "cell_type": "code",
   "execution_count": 48,
   "metadata": {},
   "outputs": [],
   "source": [
    "histone_x = {} #this will be the dictionary for x coordinate of protein (chain A)\n",
    "histone_y = {}\n",
    "histone_z = {}\n",
    "dna_x  = {} #this will be the dictionary for x coordinate of DNA (chain I and J)\n",
    "dna_y  = {}\n",
    "dna_z  = {}\n",
    "\n",
    "pdb_file = open('1id3.pdb', 'r' ) #Open the pdb file\n",
    "for line in pdb_file:\n",
    "    if line.startswith('ATOM'):\n",
    "        resid = line[22:26] #get the residue number\n",
    "        resid = resid.replace(\" \",\"\") #get rid of all spaces in the residue number\n",
    "        atom = line[12:16] #get the atom name\n",
    "        atom = atom.replace(\" \",\"\") #get rid of all spaces in atom name\n",
    "        chain = line[21]\n",
    "        key = chain+\"_\"+resid+\"_\"+atom #make a unique key for that atom\n",
    "        if line[21] == 'A': #histone H3 chain\n",
    "            histone_x[key] = float(line[30:38]) #getting the x coordinate\n",
    "            histone_y[key] = float(line[38:46])\n",
    "            histone_z[key] = float(line[46:55])\n",
    "            #print(key+\" \"+str(histone_x[key]),histone_y[key],histone_z[key])\n",
    "        if chain == 'I': #or chain == 'J': #DNA chains\n",
    "            dna_x[key] = float(line[30:38])\n",
    "            dna_y[key] = float(line[38:46])\n",
    "            dna_z[key] = float(line[46:55])\n",
    "            #print(key+\" \"+str(dna_x[key]),dna_y[key],dna_z[key])\n",
    "pdb_file.close()\n",
    "\n",
    "h3_contact_count = {}\n",
    "dna_contact_count = {}\n",
    "\n",
    "for i in histone_x:\n",
    "    broken_key = i.split(\"_\")\n",
    "    h3_resid = int(broken_key[1])\n",
    "    for j in dna_x:\n",
    "        broken_key = j.split(\"_\")\n",
    "        dna_resid = int(broken_key[1])\n",
    "        #if not resid in contact_count:\n",
    "        #    contact_count[resid] = 0\n",
    "        dist = ( (histone_x[i] - dna_x[j])**2 + (histone_y[i] - dna_y[j])**2 + (histone_z[i] - dna_z[j] )**2 )  ** 0.5\n",
    "        if(dist <= 6):\n",
    "            ########## Count H3 Contacts ########\n",
    "            if h3_resid in h3_contact_count:\n",
    "                h3_contact_count[h3_resid]+=1\n",
    "            else:\n",
    "                h3_contact_count[h3_resid] = 1\n",
    "            ######## Count DNA contacts #########\n",
    "            if dna_resid in dna_contact_count:\n",
    "                dna_contact_count[dna_resid]+=1\n",
    "            else:\n",
    "                dna_contact_count[dna_resid] = 1"
   ]
  },
  {
   "cell_type": "code",
   "execution_count": 49,
   "metadata": {},
   "outputs": [
    {
     "name": "stdout",
     "output_type": "stream",
     "text": [
      "DNA Contacts\n",
      "49 4\n",
      "50 159\n",
      "51 102\n",
      "59 25\n",
      "60 16\n",
      "64 2\n",
      "65 13\n",
      "66 3\n",
      "67 49\n",
      "68 51\n",
      "69 34\n",
      "70 113\n",
      "71 29\n",
      "143 57\n",
      "144 130\n",
      "145 29\n",
      "H3 Contacts\n",
      "38 5\n",
      "39 12\n",
      "40 46\n",
      "41 65\n",
      "42 96\n",
      "43 74\n",
      "45 34\n",
      "49 2\n",
      "52 3\n",
      "61 1\n",
      "63 40\n",
      "68 4\n",
      "72 22\n",
      "82 3\n",
      "83 119\n",
      "84 50\n",
      "85 46\n",
      "86 18\n",
      "87 2\n",
      "89 1\n",
      "115 7\n",
      "116 62\n",
      "117 40\n",
      "118 36\n",
      "120 25\n",
      "122 3\n"
     ]
    }
   ],
   "source": [
    "print(\"DNA Contacts\")\n",
    "for i in sorted(dna_contact_count):                \n",
    "    print(i,dna_contact_count[i])\n",
    "\n",
    "print(\"H3 Contacts\")\n",
    "for i in sorted(h3_contact_count):                \n",
    "    print(i,h3_contact_count[i])"
   ]
  },
  {
   "cell_type": "code",
   "execution_count": 50,
   "metadata": {},
   "outputs": [
    {
     "name": "stdout",
     "output_type": "stream",
     "text": [
      "[ 49  50  51  59  60  64  65  66  67  68  69  70  71 143 144 145]\n"
     ]
    },
    {
     "data": {
      "image/png": "[encoded data removed]",
      "text/plain": [
       "<matplotlib.figure.Figure at 0x10f4998d0>"
      ]
     },
     "metadata": {},
     "output_type": "display_data"
    }
   ],
   "source": [
    "yt = []\n",
    "\n",
    "x1 = np.asarray(sorted(dna_contact_count))\n",
    "for i in sorted(dna_contact_count):\n",
    "    yt.append(dna_contact_count[i])\n",
    "y1 = np.asarray(yt)\n",
    "\n",
    "print(x1)\n",
    "\n",
    "fig, ax = plt.subplots()\n",
    "ax.plot(x1, y1, color='black',label=\"DNA Contact Count\")\n",
    "\n",
    "ax.set(xlabel='Residue ID', ylabel='Contacts')\n",
    "\n",
    "plt.legend()\n",
    "\n",
    "plt.show()"
   ]
  },
  {
   "cell_type": "markdown",
   "metadata": {},
   "source": [
    "## Assignment\n",
    "\n",
    "A wig format is used for genome coverage of a dataset. The declaration line starts with the word variableStep and is followed by a specification for a chromosome. Ignore the optional span parameter for now. You have to write the code to read the \"80mM_Ctl_sub.wig\" file and then print out the coverage as follows:\n",
    "\n",
    "Chromosome Position Value"
   ]
  },
  {
   "cell_type": "code",
   "execution_count": null,
   "metadata": {
    "collapsed": true
   },
   "outputs": [],
   "source": [
    "# write code here"
   ]
  },
  {
   "cell_type": "markdown",
   "metadata": {},
   "source": [
    "For the fastq file that we worked on, calculate the GC content at each position of the read. Here is a demo:\n",
    "\n",
    "`sequence 1: ATGCATGC\n",
    "sequence 2: GAGAGCTA`\n",
    "\n",
    "First position is 50% GC, second position is 0% GC and so on."
   ]
  },
  {
   "cell_type": "code",
   "execution_count": null,
   "metadata": {
    "collapsed": true
   },
   "outputs": [],
   "source": [
    "# write code here"
   ]
  },
  {
   "cell_type": "markdown",
   "metadata": {},
   "source": [
    "Read a uniprot text file \"HistoneH3_Uniprot.txt\". Write code to extract subcellular localization and the amino acid sequence from the uniprot file."
   ]
  },
  {
   "cell_type": "code",
   "execution_count": null,
   "metadata": {
    "collapsed": true
   },
   "outputs": [],
   "source": [
    "# write code here"
   ]
  },
  {
   "cell_type": "markdown",
   "metadata": {},
   "source": [
    "In the pdb file we worked with, for each Lysine residue (LYS) in chain A, find the closest DNA residue (only in chain I). The output should be as follows:\n",
    "\n",
    "Residue_ID Residue_Name (should be LYS) closest to Residue_ID Residue_Name"
   ]
  },
  {
   "cell_type": "code",
   "execution_count": null,
   "metadata": {
    "collapsed": true
   },
   "outputs": [],
   "source": [
    "# write code here"
   ]
  }
 ],
 "metadata": {
  "anaconda-cloud": {},
  "kernelspec": {
   "display_name": "Python 3",
   "language": "python",
   "name": "python3"
  },
  "language_info": {
   "codemirror_mode": {
    "name": "ipython",
    "version": 3
   },
   "file_extension": ".py",
   "mimetype": "text/x-python",
   "name": "python",
   "nbconvert_exporter": "python",
   "pygments_lexer": "ipython3",
   "version": "3.7.6"
  }
 },
 "nbformat": 4,
 "nbformat_minor": 1
}
